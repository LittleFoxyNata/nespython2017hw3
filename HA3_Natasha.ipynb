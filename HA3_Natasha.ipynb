{
 "cells": [
  {
   "cell_type": "markdown",
   "metadata": {},
   "source": [
    "# Home assignment 2. Python"
   ]
  },
  {
   "cell_type": "markdown",
   "metadata": {},
   "source": [
    "Problem 1"
   ]
  },
  {
   "cell_type": "code",
   "execution_count": null,
   "metadata": {
    "collapsed": true
   },
   "outputs": [],
   "source": [
    "import numpy as np"
   ]
  },
  {
   "cell_type": "code",
   "execution_count": 8,
   "metadata": {
    "collapsed": false
   },
   "outputs": [],
   "source": [
    "#problem 1\n",
    "X = np.random.randn(1000,5)\n",
    "y = X.dot(np.array([1,2,3,4,5]))+np.random.randn(1000)\n",
    "class OLS:\n",
    "    beta = None\n",
    "    variance = None\n",
    "    V = None\n",
    "    prediction = None\n",
    "    resid = None\n",
    "    def assess(X,y):\n",
    "        betas = ((X.T.dot(X)**(-1)).dot(X.T)).dot(y)\n",
    "        variance = 1/(X.shape[0]-X.shape[1])*((y-X.dot(betas))).T.dot(y-X.dot(betas))\n",
    "        V = variance*(X.T.dot(X))**(-1)\n",
    "        resid = y-X.dot(betas)\n",
    "        OLS.beta = betas\n",
    "        OLS.variance = variance\n",
    "        OLS.V = V\n",
    "        OLS.resid = resid\n",
    "    def predict(x=None):\n",
    "        prediction = x.dot(OLS.beta)\n",
    "        OLS.prediction = prediction\n",
    "        return prediction"
   ]
  },
  {
   "cell_type": "code",
   "execution_count": 9,
   "metadata": {
    "collapsed": true
   },
   "outputs": [],
   "source": [
    "OLS.assess(X,y)"
   ]
  },
  {
   "cell_type": "code",
   "execution_count": 10,
   "metadata": {
    "collapsed": false
   },
   "outputs": [
    {
     "data": {
      "text/plain": [
       "array([ -186.90238734,   433.65061875,  9168.68875183,  6879.69241255,\n",
       "         145.25544738])"
      ]
     },
     "execution_count": 10,
     "metadata": {},
     "output_type": "execute_result"
    }
   ],
   "source": [
    "OLS.beta"
   ]
  },
  {
   "cell_type": "code",
   "execution_count": 11,
   "metadata": {
    "collapsed": false
   },
   "outputs": [
    {
     "data": {
      "text/plain": [
       "array([[  1.39044561e+05,   2.17211245e+06,  -4.27207748e+06,\n",
       "         -1.20259362e+07,   6.20620126e+06],\n",
       "       [  2.17211245e+06,   1.35878471e+05,   8.12360603e+06,\n",
       "          2.81835671e+06,   3.84705353e+06],\n",
       "       [ -4.27207748e+06,   8.12360603e+06,   1.30143847e+05,\n",
       "          3.02171270e+08,  -5.77698400e+06],\n",
       "       [ -1.20259362e+07,   2.81835671e+06,   3.02171270e+08,\n",
       "          1.37707818e+05,   4.91789587e+06],\n",
       "       [  6.20620126e+06,   3.84705353e+06,  -5.77698400e+06,\n",
       "          4.91789587e+06,   1.34648655e+05]])"
      ]
     },
     "execution_count": 11,
     "metadata": {},
     "output_type": "execute_result"
    }
   ],
   "source": [
    "OLS.V"
   ]
  },
  {
   "cell_type": "code",
   "execution_count": 17,
   "metadata": {
    "collapsed": false
   },
   "outputs": [
    {
     "data": {
      "text/plain": [
       "56431.51199275822"
      ]
     },
     "execution_count": 17,
     "metadata": {},
     "output_type": "execute_result"
    }
   ],
   "source": [
    "OLS.predict(np.array([1,2,3,4,5]))"
   ]
  },
  {
   "cell_type": "markdown",
   "metadata": {},
   "source": [
    "Problem 4"
   ]
  },
  {
   "cell_type": "markdown",
   "metadata": {},
   "source": [
    "4.1"
   ]
  },
  {
   "cell_type": "code",
   "execution_count": 18,
   "metadata": {
    "collapsed": true
   },
   "outputs": [],
   "source": [
    "import pandas as pd"
   ]
  },
  {
   "cell_type": "code",
   "execution_count": 22,
   "metadata": {
    "collapsed": true
   },
   "outputs": [],
   "source": [
    "data_set = pd.read_csv('/Users/Nataly/Documents/NES/second year/Python/HA2/goalies-2014-2016.csv',sep=';')"
   ]
  },
  {
   "cell_type": "code",
   "execution_count": 25,
   "metadata": {
    "collapsed": false,
    "scrolled": false
   },
   "outputs": [
    {
     "data": {
      "text/html": [
       "<div>\n",
       "<table border=\"1\" class=\"dataframe\">\n",
       "  <thead>\n",
       "    <tr style=\"text-align: right;\">\n",
       "      <th></th>\n",
       "      <th>n</th>\n",
       "      <th>player</th>\n",
       "      <th>season</th>\n",
       "      <th>team</th>\n",
       "      <th>position</th>\n",
       "      <th>games_played</th>\n",
       "    </tr>\n",
       "  </thead>\n",
       "  <tbody>\n",
       "    <tr>\n",
       "      <th>0</th>\n",
       "      <td>1</td>\n",
       "      <td>Cam Talbot</td>\n",
       "      <td>2016-17</td>\n",
       "      <td>EDM</td>\n",
       "      <td>G</td>\n",
       "      <td>73</td>\n",
       "    </tr>\n",
       "    <tr>\n",
       "      <th>1</th>\n",
       "      <td>2</td>\n",
       "      <td>Braden Holtby</td>\n",
       "      <td>2016-17</td>\n",
       "      <td>WSH</td>\n",
       "      <td>G</td>\n",
       "      <td>63</td>\n",
       "    </tr>\n",
       "    <tr>\n",
       "      <th>2</th>\n",
       "      <td>3</td>\n",
       "      <td>Sergei Bobrovsky</td>\n",
       "      <td>2016-17</td>\n",
       "      <td>CBJ</td>\n",
       "      <td>G</td>\n",
       "      <td>63</td>\n",
       "    </tr>\n",
       "    <tr>\n",
       "      <th>3</th>\n",
       "      <td>4</td>\n",
       "      <td>Devan Dubnyk</td>\n",
       "      <td>2016-17</td>\n",
       "      <td>MIN</td>\n",
       "      <td>G</td>\n",
       "      <td>65</td>\n",
       "    </tr>\n",
       "    <tr>\n",
       "      <th>4</th>\n",
       "      <td>5</td>\n",
       "      <td>Tuukka Rask</td>\n",
       "      <td>2016-17</td>\n",
       "      <td>BOS</td>\n",
       "      <td>G</td>\n",
       "      <td>65</td>\n",
       "    </tr>\n",
       "  </tbody>\n",
       "</table>\n",
       "</div>"
      ],
      "text/plain": [
       "   n            player   season team position  games_played\n",
       "0  1        Cam Talbot  2016-17  EDM        G            73\n",
       "1  2     Braden Holtby  2016-17  WSH        G            63\n",
       "2  3  Sergei Bobrovsky  2016-17  CBJ        G            63\n",
       "3  4      Devan Dubnyk  2016-17  MIN        G            65\n",
       "4  5       Tuukka Rask  2016-17  BOS        G            65"
      ]
     },
     "execution_count": 25,
     "metadata": {},
     "output_type": "execute_result"
    }
   ],
   "source": [
    "data_set.head()[data_set.columns[:6]]"
   ]
  },
  {
   "cell_type": "markdown",
   "metadata": {},
   "source": [
    "4.2"
   ]
  },
  {
   "cell_type": "code",
   "execution_count": 28,
   "metadata": {
    "collapsed": false
   },
   "outputs": [
    {
     "name": "stdout",
     "output_type": "stream",
     "text": [
      "max deviation: 0.00059325605901\n"
     ]
    }
   ],
   "source": [
    "print('max deviation:',abs(data_set['save_percentage']-data_set['saves']/data_set['shots_against']).max())"
   ]
  },
  {
   "cell_type": "markdown",
   "metadata": {},
   "source": [
    "4.3"
   ]
  },
  {
   "cell_type": "code",
   "execution_count": 31,
   "metadata": {
    "collapsed": false
   },
   "outputs": [
    {
     "name": "stdout",
     "output_type": "stream",
     "text": [
      " Games_played:\n",
      "\n",
      " average: 28.476702508960575 \n",
      " standard deviation 22.28539530193931 \n",
      "\n",
      " Goals_against:\n",
      "\n",
      " average: 67.60573476702508 \n",
      " standard deviation 53.351779174596096 \n",
      "\n",
      " Save_percentage:\n",
      "\n",
      " average: 0.901179211469534 \n",
      " standard deviation 0.07126001228217074 \n",
      "\n",
      "\n"
     ]
    }
   ],
   "source": [
    "print(\n",
    "    ' Games_played:\\n\\n',\n",
    "    'average:',data_set['games_played'].mean(),'\\n',\n",
    "    'standard deviation',data_set['games_played'].std(),'\\n\\n',\n",
    "    \n",
    "    'Goals_against:\\n\\n',\n",
    "    'average:',data_set['goals_against'].mean(),'\\n',\n",
    "    'standard deviation',data_set['goals_against'].std(),'\\n\\n',\n",
    "    \n",
    "    'Save_percentage:\\n\\n',\n",
    "    'average:',data_set['save_percentage'].mean(),'\\n',\n",
    "    'standard deviation',data_set['save_percentage'].std(),'\\n\\n',\n",
    ")"
   ]
  },
  {
   "cell_type": "markdown",
   "metadata": {},
   "source": [
    "4.4"
   ]
  },
  {
   "cell_type": "code",
   "execution_count": 32,
   "metadata": {
    "collapsed": true
   },
   "outputs": [],
   "source": [
    "filt1 = df['season'].isin(['2016-17'])\n",
    "filt2 = df['games_played']>40\n",
    "filt = filt1&filt2"
   ]
  },
  {
   "cell_type": "code",
   "execution_count": 46,
   "metadata": {
    "collapsed": false
   },
   "outputs": [
    {
     "data": {
      "text/plain": [
       "'Sergei Bobrovsky'"
      ]
     },
     "execution_count": 46,
     "metadata": {},
     "output_type": "execute_result"
    }
   ],
   "source": [
    "data_set[filt].loc[data_set[filt]['save_percentage'].idxmax()]['player']"
   ]
  },
  {
   "cell_type": "code",
   "execution_count": 47,
   "metadata": {
    "collapsed": false
   },
   "outputs": [
    {
     "data": {
      "text/plain": [
       "0.93099999999999994"
      ]
     },
     "execution_count": 47,
     "metadata": {},
     "output_type": "execute_result"
    }
   ],
   "source": [
    "data_set[filt].loc[data_set[filt]['save_percentage'].idxmax()]['save_percentage']"
   ]
  },
  {
   "cell_type": "markdown",
   "metadata": {},
   "source": [
    "4.5"
   ]
  },
  {
   "cell_type": "code",
   "execution_count": 49,
   "metadata": {
    "collapsed": false
   },
   "outputs": [
    {
     "data": {
      "text/html": [
       "<div>\n",
       "<table border=\"1\" class=\"dataframe\">\n",
       "  <thead>\n",
       "    <tr style=\"text-align: right;\">\n",
       "      <th></th>\n",
       "      <th>Name of player</th>\n",
       "      <th>Saves</th>\n",
       "      <th>Season</th>\n",
       "    </tr>\n",
       "  </thead>\n",
       "  <tbody>\n",
       "    <tr>\n",
       "      <th>0</th>\n",
       "      <td>Cam Talbot</td>\n",
       "      <td>1946</td>\n",
       "      <td>2016-17</td>\n",
       "    </tr>\n",
       "    <tr>\n",
       "      <th>1</th>\n",
       "      <td>Henrik Lundqvist</td>\n",
       "      <td>1788</td>\n",
       "      <td>2015-16</td>\n",
       "    </tr>\n",
       "    <tr>\n",
       "      <th>2</th>\n",
       "      <td>Braden Holtby</td>\n",
       "      <td>1887</td>\n",
       "      <td>2014-15</td>\n",
       "    </tr>\n",
       "  </tbody>\n",
       "</table>\n",
       "</div>"
      ],
      "text/plain": [
       "     Name of player  Saves   Season\n",
       "0        Cam Talbot   1946  2016-17\n",
       "1  Henrik Lundqvist   1788  2015-16\n",
       "2     Braden Holtby   1887  2014-15"
      ]
     },
     "execution_count": 49,
     "metadata": {},
     "output_type": "execute_result"
    }
   ],
   "source": [
    "name = []\n",
    "saves = []\n",
    "season = []\n",
    "\n",
    "for i in df.season.unique():\n",
    "    mask = df['season'].isin([i])\n",
    "    df_id = df[mask]['saves'].idxmax()\n",
    "    name.append(df.loc[df_id]['player'])\n",
    "    saves.append(df.loc[df_id]['saves'])\n",
    "    season.append(i)\n",
    "pd.DataFrame({'Name of player':name,'Saves':saves,'Season':season})"
   ]
  },
  {
   "cell_type": "markdown",
   "metadata": {},
   "source": [
    "4.6"
   ]
  },
  {
   "cell_type": "code",
   "execution_count": 75,
   "metadata": {
    "collapsed": false
   },
   "outputs": [],
   "source": [
    "df = data_set[data_set['wins']>30]"
   ]
  },
  {
   "cell_type": "code",
   "execution_count": 76,
   "metadata": {
    "collapsed": false
   },
   "outputs": [],
   "source": [
    "df = df['player'].value_counts()"
   ]
  },
  {
   "cell_type": "code",
   "execution_count": 82,
   "metadata": {
    "collapsed": false
   },
   "outputs": [],
   "source": [
    "names = list(df.index[df==3])"
   ]
  },
  {
   "cell_type": "code",
   "execution_count": 83,
   "metadata": {
    "collapsed": false
   },
   "outputs": [
    {
     "data": {
      "text/plain": [
       "['Pekka Rinne',\n",
       " 'Devan Dubnyk',\n",
       " 'Corey Crawford',\n",
       " 'Tuukka Rask',\n",
       " 'Braden Holtby']"
      ]
     },
     "execution_count": 83,
     "metadata": {},
     "output_type": "execute_result"
    }
   ],
   "source": [
    "names"
   ]
  },
  {
   "cell_type": "code",
   "execution_count": 87,
   "metadata": {
    "collapsed": false
   },
   "outputs": [],
   "source": [
    "fdf = data_set[data_set['player'].isin(names)][['player','wins','season']]"
   ]
  },
  {
   "cell_type": "code",
   "execution_count": 88,
   "metadata": {
    "collapsed": false
   },
   "outputs": [
    {
     "data": {
      "text/html": [
       "<div>\n",
       "<table border=\"1\" class=\"dataframe\">\n",
       "  <thead>\n",
       "    <tr style=\"text-align: right;\">\n",
       "      <th></th>\n",
       "      <th>player</th>\n",
       "      <th>wins</th>\n",
       "      <th>season</th>\n",
       "    </tr>\n",
       "  </thead>\n",
       "  <tbody>\n",
       "    <tr>\n",
       "      <th>1</th>\n",
       "      <td>Braden Holtby</td>\n",
       "      <td>42</td>\n",
       "      <td>2016-17</td>\n",
       "    </tr>\n",
       "    <tr>\n",
       "      <th>3</th>\n",
       "      <td>Devan Dubnyk</td>\n",
       "      <td>40</td>\n",
       "      <td>2016-17</td>\n",
       "    </tr>\n",
       "    <tr>\n",
       "      <th>4</th>\n",
       "      <td>Tuukka Rask</td>\n",
       "      <td>37</td>\n",
       "      <td>2016-17</td>\n",
       "    </tr>\n",
       "    <tr>\n",
       "      <th>10</th>\n",
       "      <td>Corey Crawford</td>\n",
       "      <td>32</td>\n",
       "      <td>2016-17</td>\n",
       "    </tr>\n",
       "    <tr>\n",
       "      <th>11</th>\n",
       "      <td>Pekka Rinne</td>\n",
       "      <td>31</td>\n",
       "      <td>2016-17</td>\n",
       "    </tr>\n",
       "    <tr>\n",
       "      <th>95</th>\n",
       "      <td>Braden Holtby</td>\n",
       "      <td>48</td>\n",
       "      <td>2015-16</td>\n",
       "    </tr>\n",
       "    <tr>\n",
       "      <th>101</th>\n",
       "      <td>Corey Crawford</td>\n",
       "      <td>35</td>\n",
       "      <td>2015-16</td>\n",
       "    </tr>\n",
       "    <tr>\n",
       "      <th>103</th>\n",
       "      <td>Pekka Rinne</td>\n",
       "      <td>34</td>\n",
       "      <td>2015-16</td>\n",
       "    </tr>\n",
       "    <tr>\n",
       "      <th>104</th>\n",
       "      <td>Devan Dubnyk</td>\n",
       "      <td>32</td>\n",
       "      <td>2015-16</td>\n",
       "    </tr>\n",
       "    <tr>\n",
       "      <th>105</th>\n",
       "      <td>Tuukka Rask</td>\n",
       "      <td>31</td>\n",
       "      <td>2015-16</td>\n",
       "    </tr>\n",
       "    <tr>\n",
       "      <th>188</th>\n",
       "      <td>Pekka Rinne</td>\n",
       "      <td>41</td>\n",
       "      <td>2014-15</td>\n",
       "    </tr>\n",
       "    <tr>\n",
       "      <th>189</th>\n",
       "      <td>Braden Holtby</td>\n",
       "      <td>41</td>\n",
       "      <td>2014-15</td>\n",
       "    </tr>\n",
       "    <tr>\n",
       "      <th>193</th>\n",
       "      <td>Devan Dubnyk</td>\n",
       "      <td>36</td>\n",
       "      <td>2014-15</td>\n",
       "    </tr>\n",
       "    <tr>\n",
       "      <th>197</th>\n",
       "      <td>Tuukka Rask</td>\n",
       "      <td>34</td>\n",
       "      <td>2014-15</td>\n",
       "    </tr>\n",
       "    <tr>\n",
       "      <th>198</th>\n",
       "      <td>Corey Crawford</td>\n",
       "      <td>32</td>\n",
       "      <td>2014-15</td>\n",
       "    </tr>\n",
       "  </tbody>\n",
       "</table>\n",
       "</div>"
      ],
      "text/plain": [
       "             player  wins   season\n",
       "1     Braden Holtby    42  2016-17\n",
       "3      Devan Dubnyk    40  2016-17\n",
       "4       Tuukka Rask    37  2016-17\n",
       "10   Corey Crawford    32  2016-17\n",
       "11      Pekka Rinne    31  2016-17\n",
       "95    Braden Holtby    48  2015-16\n",
       "101  Corey Crawford    35  2015-16\n",
       "103     Pekka Rinne    34  2015-16\n",
       "104    Devan Dubnyk    32  2015-16\n",
       "105     Tuukka Rask    31  2015-16\n",
       "188     Pekka Rinne    41  2014-15\n",
       "189   Braden Holtby    41  2014-15\n",
       "193    Devan Dubnyk    36  2014-15\n",
       "197     Tuukka Rask    34  2014-15\n",
       "198  Corey Crawford    32  2014-15"
      ]
     },
     "execution_count": 88,
     "metadata": {},
     "output_type": "execute_result"
    }
   ],
   "source": [
    "fdf.sort_values('season',ascending = False)"
   ]
  },
  {
   "cell_type": "code",
   "execution_count": null,
   "metadata": {
    "collapsed": true
   },
   "outputs": [],
   "source": []
  }
 ],
 "metadata": {
  "anaconda-cloud": {},
  "kernelspec": {
   "display_name": "Python [default]",
   "language": "python",
   "name": "python3"
  },
  "language_info": {
   "codemirror_mode": {
    "name": "ipython",
    "version": 3
   },
   "file_extension": ".py",
   "mimetype": "text/x-python",
   "name": "python",
   "nbconvert_exporter": "python",
   "pygments_lexer": "ipython3",
   "version": "3.5.2"
  }
 },
 "nbformat": 4,
 "nbformat_minor": 1
}
